{
 "cells": [
  {
   "cell_type": "code",
   "execution_count": 1,
   "metadata": {},
   "outputs": [],
   "source": [
    "import pandas as pd\n",
    "import numpy as np\n",
    "import matplotlib.pyplot as plt\n",
    "from datetime import datetime\n",
    "%matplotlib inline"
   ]
  },
  {
   "cell_type": "code",
   "execution_count": 2,
   "metadata": {},
   "outputs": [],
   "source": [
    "station = pd.read_csv('stations.csv')\n",
    "year2001 = pd.read_csv('./csvs_per_year/madrid_2001.csv')\n",
    "year2001 = year2001.dropna()\n",
    "year2002 = pd.read_csv('./csvs_per_year/madrid_2002.csv')\n",
    "year2002 = year2002.dropna()\n",
    "year2003 = pd.read_csv('./csvs_per_year/madrid_2003.csv')\n",
    "year2003 = year2003.dropna()\n",
    "year2004 = pd.read_csv('./csvs_per_year/madrid_2004.csv')\n",
    "year2004 = year2004.dropna()\n",
    "year2005 = pd.read_csv('./csvs_per_year/madrid_2005.csv')\n",
    "year2005 = year2005.dropna()\n",
    "year2006 = pd.read_csv('./csvs_per_year/madrid_2006.csv')\n",
    "year2006 = year2006.dropna()\n",
    "year2007 = pd.read_csv('./csvs_per_year/madrid_2007.csv')\n",
    "year2007 = year2007.dropna()\n",
    "year2008 = pd.read_csv('./csvs_per_year/madrid_2008.csv')\n",
    "year2008 = year2008.dropna()\n",
    "year2009 = pd.read_csv('./csvs_per_year/madrid_2009.csv')\n",
    "year2009 = year2009.dropna()\n",
    "year2010 = pd.read_csv('./csvs_per_year/madrid_2010.csv')\n",
    "year2010 = year2010.dropna()\n",
    "year2011 = pd.read_csv('./csvs_per_year/madrid_2011.csv')\n",
    "year2011 = year2011.dropna()\n",
    "year2012 = pd.read_csv('./csvs_per_year/madrid_2012.csv')\n",
    "year2012 = year2012.dropna()\n",
    "year2013 = pd.read_csv('./csvs_per_year/madrid_2013.csv')\n",
    "year2013 = year2013.dropna()\n",
    "year2014 = pd.read_csv('./csvs_per_year/madrid_2014.csv')\n",
    "year2014 = year2014.dropna()\n",
    "year2015 = pd.read_csv('./csvs_per_year/madrid_2015.csv')\n",
    "year2015 = year2015.dropna()\n",
    "year2016 = pd.read_csv('./csvs_per_year/madrid_2016.csv')\n",
    "year2016 = year2016.dropna()\n",
    "year2017 = pd.read_csv('./csvs_per_year/madrid_2017.csv')\n",
    "year2017 = year2017.dropna()\n",
    "year2018 = pd.read_csv('./csvs_per_year/madrid_2018.csv')\n",
    "year2018 = year2018.dropna()"
   ]
  },
  {
   "cell_type": "code",
   "execution_count": 3,
   "metadata": {},
   "outputs": [],
   "source": [
    "feature = ['BEN','CO','EBE','NMHC','NO_2','O_3','PM10','SO_2','TCH','TOL','date','station']\n",
    "year2001f = year2001[feature].copy()\n",
    "year2002f = year2002[feature].copy()\n",
    "year2003f = year2003[feature].copy()\n",
    "year2004f = year2004[feature].copy()\n",
    "year2005f = year2005[feature].copy()\n",
    "year2006f = year2006[feature].copy()\n",
    "year2007f = year2007[feature].copy()\n",
    "year2008f = year2008[feature].copy()\n",
    "year2009f = year2009[feature].copy()\n",
    "year2010f = year2010[feature].copy()\n",
    "year2011f = year2011[feature].copy()\n",
    "year2012f = year2012[feature].copy()\n",
    "year2013f = year2013[feature].copy()\n",
    "year2014f = year2014[feature].copy()\n",
    "year2015f = year2015[feature].copy()\n",
    "year2016f = year2016[feature].copy()\n",
    "year2017f = year2017[feature].copy()\n",
    "year2018f = year2018[feature].copy()"
   ]
  },
  {
   "cell_type": "code",
   "execution_count": 4,
   "metadata": {},
   "outputs": [
    {
     "data": {
      "text/html": [
       "<div>\n",
       "<style scoped>\n",
       "    .dataframe tbody tr th:only-of-type {\n",
       "        vertical-align: middle;\n",
       "    }\n",
       "\n",
       "    .dataframe tbody tr th {\n",
       "        vertical-align: top;\n",
       "    }\n",
       "\n",
       "    .dataframe thead th {\n",
       "        text-align: right;\n",
       "    }\n",
       "</style>\n",
       "<table border=\"1\" class=\"dataframe\">\n",
       "  <thead>\n",
       "    <tr style=\"text-align: right;\">\n",
       "      <th></th>\n",
       "      <th>date</th>\n",
       "      <th>BEN</th>\n",
       "      <th>CO</th>\n",
       "      <th>EBE</th>\n",
       "      <th>MXY</th>\n",
       "      <th>NMHC</th>\n",
       "      <th>NO_2</th>\n",
       "      <th>NOx</th>\n",
       "      <th>OXY</th>\n",
       "      <th>O_3</th>\n",
       "      <th>PM10</th>\n",
       "      <th>PXY</th>\n",
       "      <th>SO_2</th>\n",
       "      <th>TCH</th>\n",
       "      <th>TOL</th>\n",
       "      <th>station</th>\n",
       "    </tr>\n",
       "  </thead>\n",
       "  <tbody>\n",
       "    <tr>\n",
       "      <th>1</th>\n",
       "      <td>2001-08-01 01:00:00</td>\n",
       "      <td>1.50</td>\n",
       "      <td>0.34</td>\n",
       "      <td>1.49</td>\n",
       "      <td>4.10</td>\n",
       "      <td>0.07</td>\n",
       "      <td>56.250000</td>\n",
       "      <td>75.169998</td>\n",
       "      <td>2.11</td>\n",
       "      <td>42.160000</td>\n",
       "      <td>100.599998</td>\n",
       "      <td>1.73</td>\n",
       "      <td>8.11</td>\n",
       "      <td>1.24</td>\n",
       "      <td>10.82</td>\n",
       "      <td>28079035</td>\n",
       "    </tr>\n",
       "    <tr>\n",
       "      <th>5</th>\n",
       "      <td>2001-08-01 01:00:00</td>\n",
       "      <td>2.11</td>\n",
       "      <td>0.63</td>\n",
       "      <td>2.48</td>\n",
       "      <td>5.94</td>\n",
       "      <td>0.05</td>\n",
       "      <td>66.260002</td>\n",
       "      <td>118.099998</td>\n",
       "      <td>3.15</td>\n",
       "      <td>33.500000</td>\n",
       "      <td>122.699997</td>\n",
       "      <td>2.29</td>\n",
       "      <td>6.36</td>\n",
       "      <td>1.23</td>\n",
       "      <td>13.28</td>\n",
       "      <td>28079006</td>\n",
       "    </tr>\n",
       "    <tr>\n",
       "      <th>21</th>\n",
       "      <td>2001-08-01 01:00:00</td>\n",
       "      <td>0.80</td>\n",
       "      <td>0.43</td>\n",
       "      <td>0.71</td>\n",
       "      <td>1.20</td>\n",
       "      <td>0.10</td>\n",
       "      <td>27.190001</td>\n",
       "      <td>29.700001</td>\n",
       "      <td>0.76</td>\n",
       "      <td>56.990002</td>\n",
       "      <td>114.300003</td>\n",
       "      <td>0.49</td>\n",
       "      <td>10.84</td>\n",
       "      <td>1.42</td>\n",
       "      <td>3.43</td>\n",
       "      <td>28079024</td>\n",
       "    </tr>\n",
       "    <tr>\n",
       "      <th>23</th>\n",
       "      <td>2001-08-01 01:00:00</td>\n",
       "      <td>1.29</td>\n",
       "      <td>0.34</td>\n",
       "      <td>1.41</td>\n",
       "      <td>3.09</td>\n",
       "      <td>0.07</td>\n",
       "      <td>40.750000</td>\n",
       "      <td>51.570000</td>\n",
       "      <td>1.70</td>\n",
       "      <td>51.580002</td>\n",
       "      <td>102.199997</td>\n",
       "      <td>1.28</td>\n",
       "      <td>7.97</td>\n",
       "      <td>1.30</td>\n",
       "      <td>7.83</td>\n",
       "      <td>28079099</td>\n",
       "    </tr>\n",
       "    <tr>\n",
       "      <th>25</th>\n",
       "      <td>2001-08-01 02:00:00</td>\n",
       "      <td>0.87</td>\n",
       "      <td>0.06</td>\n",
       "      <td>0.88</td>\n",
       "      <td>2.41</td>\n",
       "      <td>0.01</td>\n",
       "      <td>29.709999</td>\n",
       "      <td>31.440001</td>\n",
       "      <td>1.20</td>\n",
       "      <td>56.520000</td>\n",
       "      <td>56.290001</td>\n",
       "      <td>1.02</td>\n",
       "      <td>6.90</td>\n",
       "      <td>1.17</td>\n",
       "      <td>6.49</td>\n",
       "      <td>28079035</td>\n",
       "    </tr>\n",
       "  </tbody>\n",
       "</table>\n",
       "</div>"
      ],
      "text/plain": [
       "                   date   BEN    CO   EBE   MXY  NMHC       NO_2         NOx  \\\n",
       "1   2001-08-01 01:00:00  1.50  0.34  1.49  4.10  0.07  56.250000   75.169998   \n",
       "5   2001-08-01 01:00:00  2.11  0.63  2.48  5.94  0.05  66.260002  118.099998   \n",
       "21  2001-08-01 01:00:00  0.80  0.43  0.71  1.20  0.10  27.190001   29.700001   \n",
       "23  2001-08-01 01:00:00  1.29  0.34  1.41  3.09  0.07  40.750000   51.570000   \n",
       "25  2001-08-01 02:00:00  0.87  0.06  0.88  2.41  0.01  29.709999   31.440001   \n",
       "\n",
       "     OXY        O_3        PM10   PXY   SO_2   TCH    TOL   station  \n",
       "1   2.11  42.160000  100.599998  1.73   8.11  1.24  10.82  28079035  \n",
       "5   3.15  33.500000  122.699997  2.29   6.36  1.23  13.28  28079006  \n",
       "21  0.76  56.990002  114.300003  0.49  10.84  1.42   3.43  28079024  \n",
       "23  1.70  51.580002  102.199997  1.28   7.97  1.30   7.83  28079099  \n",
       "25  1.20  56.520000   56.290001  1.02   6.90  1.17   6.49  28079035  "
      ]
     },
     "execution_count": 4,
     "metadata": {},
     "output_type": "execute_result"
    }
   ],
   "source": [
    "year2001.head()"
   ]
  },
  {
   "cell_type": "markdown",
   "metadata": {},
   "source": [
    "### Algorithm of AQI"
   ]
  },
  {
   "cell_type": "code",
   "execution_count": 5,
   "metadata": {},
   "outputs": [],
   "source": [
    "def add_AQI(x):\n",
    "    for i in x.index:\n",
    "        AQL_CO, AQL_SO2, AQL_NO2, AQL_O3 = 0,0,0,0\n",
    "        if x.loc[i,'CO'] < 5:\n",
    "            AQL_CO = (x.loc[i,'CO'] - 0) * 10 + 0\n",
    "        elif x.loc[i,'CO'] < 10:\n",
    "            AQL_CO = (x.loc[i,'CO'] - 5) * 10 + 50\n",
    "        elif x.loc[i,'CO'] < 35:\n",
    "            AQL_CO = (x.loc[i,'CO'] - 10) * 2 + 100\n",
    "        elif x.loc[i,'CO'] < 60:\n",
    "            AQL_CO = (x.loc[i,'CO'] - 35) * 2 + 150\n",
    "        elif x.loc[i,'CO'] < 90:\n",
    "            AQL_CO = (x.loc[i,'CO'] - 60) * 10 / 3 + 200\n",
    "        elif x.loc[i,'CO'] < 120:\n",
    "            AQL_CO = (x.loc[i,'CO'] - 90) * 10 / 3 + 300\n",
    "        else:\n",
    "            AQL_CO = (x.loc[i,'CO'] - 120) * 10 / 3 + 400\n",
    "        \n",
    "        if x.loc[i,'NO_2'] < 100:\n",
    "            AQL_NO2 = (x.loc[i,'NO_2'] - 0) * 1 / 2 + 0\n",
    "        elif x.loc[i,'NO_2'] < 200:\n",
    "            AQL_NO2 = (x.loc[i,'NO_2'] - 100) * 1 / 2 + 50\n",
    "        elif x.loc[i,'NO_2'] < 700:\n",
    "            AQL_NO2 = (x.loc[i,'NO_2'] - 200) * 1 / 10 + 100\n",
    "        elif x.loc[i,'NO_2'] < 1200:\n",
    "            AQL_NO2 = (x.loc[i,'NO_2'] - 700) * 1 / 10 + 150\n",
    "        elif x.loc[i,'NO_2'] < 2340:\n",
    "            AQL_NO2 = (x.loc[i,'NO_2'] - 1200) * 5 / 57 + 200\n",
    "        elif x.loc[i,'NO_2'] < 3090:\n",
    "            AQL_NO2 = (x.loc[i,'NO_2'] - 2340) * 2 / 15 + 300\n",
    "        else:\n",
    "            AQL_NO2 = (x.loc[i,'NO_2'] - 3090) * 2 / 15 + 400\n",
    "        \n",
    "        if x.loc[i,'SO_2'] < 150:\n",
    "            AQL_SO2 = (x.loc[i,'SO_2'] - 0) * 1 / 3 + 0\n",
    "        elif x.loc[i,'SO_2'] < 500:\n",
    "            AQL_SO2 = (x.loc[i,'SO_2'] - 150) * 1 / 7 + 50\n",
    "        elif x.loc[i,'SO_2'] < 650:\n",
    "            AQL_SO2 = (x.loc[i,'SO_2'] - 500) * 1 / 3 + 100\n",
    "        elif x.loc[i,'SO_2'] < 800:\n",
    "            AQL_SO2 = (x.loc[i,'SO_2'] - 650) * 1 / 3 + 150\n",
    "        elif x.loc[i,'SO_2'] < 1600:\n",
    "            AQL_SO2 = (x.loc[i,'SO_2'] - 800) * 1 / 8 + 200\n",
    "        elif x.loc[i,'SO_2'] < 2100:\n",
    "            AQL_SO2 = (x.loc[i,'SO_2'] - 1600) * 1 / 5 + 300\n",
    "        else:\n",
    "            AQL_SO2 = (x.loc[i,'SO_2'] - 2100) * 5 / 26 + 400\n",
    "        \n",
    "        if x.loc[i,'O_3'] < 160:\n",
    "            AQL_O3 = (x.loc[i,'O_3'] - 0) * 5 / 16 + 0\n",
    "        elif x.loc[i,'O_3'] < 200:\n",
    "            AQL_O3 = (x.loc[i,'O_3'] - 160) * 5 / 4 + 50\n",
    "        elif x.loc[i,'O_3'] < 300:\n",
    "            AQL_O3 = (x.loc[i,'O_3'] - 200) * 1 / 2 + 100\n",
    "        elif x.loc[i,'O_3'] < 400:\n",
    "            AQL_O3 = (x.loc[i,'O_3'] - 300) * 1 / 2 + 150\n",
    "        elif x.loc[i,'O_3'] < 800:\n",
    "            AQL_O3 = (x.loc[i,'O_3'] - 400) * 1 / 4 + 200\n",
    "        elif x.loc[i,'O_3'] < 1000:\n",
    "            AQL_O3 = (x.loc[i,'O_3'] - 800) * 1 / 2 + 300\n",
    "        else:\n",
    "            AQL_O3 = (x.loc[i,'O_3'] - 1000) * 1 / 2 + 400    \n",
    "        x.loc[i,'AQI'] = max([AQL_CO, AQL_SO2, AQL_NO2, AQL_O3])\n",
    "    return np.mean(x['AQI'])"
   ]
  },
  {
   "cell_type": "code",
   "execution_count": 6,
   "metadata": {},
   "outputs": [],
   "source": [
    "AQI_2001 = add_AQI(year2001f)\n",
    "AQI_2002 = add_AQI(year2002f)\n",
    "AQI_2003 = add_AQI(year2003f)\n",
    "AQI_2004 = add_AQI(year2004f)\n",
    "AQI_2005 = add_AQI(year2005f)\n",
    "AQI_2006 = add_AQI(year2006f)\n",
    "AQI_2007 = add_AQI(year2007f)\n",
    "AQI_2008 = add_AQI(year2008f)\n",
    "AQI_2009 = add_AQI(year2009f)\n",
    "AQI_2010 = add_AQI(year2010f)\n",
    "AQI_2011 = add_AQI(year2011f)\n",
    "AQI_2012 = add_AQI(year2012f)\n",
    "AQI_2013 = add_AQI(year2013f)\n",
    "AQI_2014 = add_AQI(year2014f)\n",
    "AQI_2015 = add_AQI(year2015f)\n",
    "AQI_2016 = add_AQI(year2016f)\n",
    "AQI_2017 = add_AQI(year2017f)\n",
    "AQI_2018 = add_AQI(year2018f)"
   ]
  },
  {
   "cell_type": "code",
   "execution_count": 7,
   "metadata": {},
   "outputs": [
    {
     "data": {
      "text/plain": [
       "35.05730079561956"
      ]
     },
     "execution_count": 7,
     "metadata": {},
     "output_type": "execute_result"
    }
   ],
   "source": [
    "AQI_2001"
   ]
  },
  {
   "cell_type": "code",
   "execution_count": 8,
   "metadata": {},
   "outputs": [
    {
     "data": {
      "text/plain": [
       "32.15659361703355"
      ]
     },
     "execution_count": 8,
     "metadata": {},
     "output_type": "execute_result"
    }
   ],
   "source": [
    "AQI_2007"
   ]
  },
  {
   "cell_type": "markdown",
   "metadata": {},
   "source": [
    "### Linear Regression (Sklearn)"
   ]
  },
  {
   "cell_type": "code",
   "execution_count": 9,
   "metadata": {},
   "outputs": [],
   "source": [
    "from sklearn.linear_model import LinearRegression"
   ]
  },
  {
   "cell_type": "code",
   "execution_count": 10,
   "metadata": {},
   "outputs": [],
   "source": [
    "def Learning(X):\n",
    "    features=['BEN','CO','EBE','NMHC','NO_2','O_3','PM10','SO_2','TCH','TOL']\n",
    "    data_x=X[features].values\n",
    "    data_x=np.mat(data_x)\n",
    "    data_labels=X['AQI'].values\n",
    "    data_y=np.mat(data_labels).T\n",
    "    reg = LinearRegression().fit(data_x, data_y)\n",
    "    RMSE=np.sqrt(((reg.predict(data_x)-data_y).T * (reg.predict(data_x)-data_y))/len(data_y))\n",
    "    average=np.mean(reg.predict(data_x))\n",
    "    return [reg.coef_,reg.intercept_[0],RMSE,average]"
   ]
  },
  {
   "cell_type": "code",
   "execution_count": 11,
   "metadata": {},
   "outputs": [],
   "source": [
    "RMSE=np.mat(np.zeros(18))\n",
    "MEAN=np.mat(np.zeros(18))\n",
    "Theta=np.mat(np.zeros(180)).reshape(18,10)\n",
    "Intercept=np.mat(np.zeros(18))"
   ]
  },
  {
   "cell_type": "code",
   "execution_count": 12,
   "metadata": {},
   "outputs": [],
   "source": [
    "Year=[year2001f,year2002f,year2003f,year2004f,year2005f,year2006f,year2007f,year2008f,year2009f,\n",
    "      year2010f,year2011f,year2012f,year2013f,year2014f,year2015f,year2016f,year2017f,year2018f]"
   ]
  },
  {
   "cell_type": "code",
   "execution_count": 13,
   "metadata": {},
   "outputs": [],
   "source": [
    "for i in range(18):\n",
    "    [Theta[i,:],Intercept[0,i],RMSE[0,i],MEAN[0,i]]=Learning(Year[i])"
   ]
  },
  {
   "cell_type": "code",
   "execution_count": 14,
   "metadata": {},
   "outputs": [],
   "source": [
    "AQI=[AQI_2001,AQI_2002,AQI_2003,AQI_2004,AQI_2005,AQI_2006,AQI_2007,AQI_2008,AQI_2009,\n",
    "     AQI_2010,AQI_2011,AQI_2012,AQI_2013,AQI_2014,AQI_2015,AQI_2016,AQI_2017,AQI_2018,]"
   ]
  },
  {
   "cell_type": "code",
   "execution_count": 15,
   "metadata": {},
   "outputs": [
    {
     "data": {
      "text/plain": [
       "Text(0,0.5,'AQI')"
      ]
     },
     "execution_count": 15,
     "metadata": {},
     "output_type": "execute_result"
    },
    {
     "data": {
      "image/png": "[encoded data removed]",
      "text/plain": [
       "<Figure size 432x288 with 1 Axes>"
      ]
     },
     "metadata": {},
     "output_type": "display_data"
    }
   ],
   "source": [
    "x=np.linspace(2001,2018,18)\n",
    "plt.plot(x,AQI)\n",
    "plt.title('Mean value of actual AQI')\n",
    "plt.xlabel('Year')\n",
    "plt.ylabel('AQI')"
   ]
  },
  {
   "cell_type": "code",
   "execution_count": 16,
   "metadata": {},
   "outputs": [
    {
     "data": {
      "text/plain": [
       "Text(0,0.5,'AQI')"
      ]
     },
     "execution_count": 16,
     "metadata": {},
     "output_type": "execute_result"
    },
    {
     "data": {
      "image/png": "[encoded data removed]",
      "text/plain": [
       "<Figure size 432x288 with 1 Axes>"
      ]
     },
     "metadata": {},
     "output_type": "display_data"
    }
   ],
   "source": [
    "plt.plot(x,np.array(MEAN[0,:].T),color='r')\n",
    "plt.title('Mean value of predictions')\n",
    "plt.xlabel('Year')\n",
    "plt.ylabel('AQI')"
   ]
  },
  {
   "cell_type": "code",
   "execution_count": 17,
   "metadata": {},
   "outputs": [
    {
     "data": {
      "text/plain": [
       "Text(0,0.5,'RMSE')"
      ]
     },
     "execution_count": 17,
     "metadata": {},
     "output_type": "execute_result"
    },
    {
     "data": {
      "image/png": "[encoded data removed]",
      "text/plain": [
       "<Figure size 432x288 with 1 Axes>"
      ]
     },
     "metadata": {},
     "output_type": "display_data"
    }
   ],
   "source": [
    "plt.plot(x,np.array(RMSE[0,:].T))\n",
    "plt.title('RMSE of predictions')\n",
    "plt.xlabel('Year')\n",
    "plt.ylabel('RMSE')"
   ]
  },
  {
   "cell_type": "markdown",
   "metadata": {},
   "source": [
    "### Result of 2005"
   ]
  },
  {
   "cell_type": "code",
   "execution_count": 18,
   "metadata": {},
   "outputs": [],
   "source": [
    "features=['BEN','CO','EBE','NMHC','NO_2','O_3','PM10','SO_2','TCH','TOL']\n",
    "data_x=year2005f[features].values\n",
    "data_x=np.mat(data_x)\n",
    "data_labels=year2005f['AQI'].values\n",
    "data_y=np.mat(data_labels).T"
   ]
  },
  {
   "cell_type": "code",
   "execution_count": 19,
   "metadata": {},
   "outputs": [
    {
     "name": "stdout",
     "output_type": "stream",
     "text": [
      "theta_1--theta_n: [[-4.46538621e-01  3.40906486e+00  4.83004704e-01 -4.44654955e+00\n",
      "   4.09073272e-01  1.07706072e-01  6.74563672e-03  5.24405459e-02\n",
      "   2.28283064e+00  2.40335576e-03]]\n",
      "theta_0: -1.7011362429351138\n",
      "RMSE [[4.299995]]\n"
     ]
    }
   ],
   "source": [
    "reg = LinearRegression().fit(data_x, data_y)\n",
    "print('theta_1--theta_n:',reg.coef_)\n",
    "print('theta_0:',reg.intercept_[0])\n",
    "print('RMSE', np.sqrt(((reg.predict(data_x)-data_y).T * (reg.predict(data_x)-data_y))/len(data_y)))"
   ]
  },
  {
   "cell_type": "code",
   "execution_count": 20,
   "metadata": {},
   "outputs": [
    {
     "data": {
      "text/plain": [
       "Text(0,0.5,'AQI')"
      ]
     },
     "execution_count": 20,
     "metadata": {},
     "output_type": "execute_result"
    },
    {
     "data": {
      "image/png": "[encoded data removed]",
      "text/plain": [
       "<Figure size 432x288 with 1 Axes>"
      ]
     },
     "metadata": {},
     "output_type": "display_data"
    }
   ],
   "source": [
    "plt.plot(range(len(data_y)),data_y)\n",
    "plt.title('Actual AQI')\n",
    "plt.ylabel('AQI')"
   ]
  },
  {
   "cell_type": "code",
   "execution_count": 21,
   "metadata": {
    "scrolled": true
   },
   "outputs": [
    {
     "data": {
      "text/plain": [
       "Text(0,0.5,'AQI')"
      ]
     },
     "execution_count": 21,
     "metadata": {},
     "output_type": "execute_result"
    },
    {
     "data": {
      "image/png": "[encoded data removed]",
      "text/plain": [
       "<Figure size 432x288 with 1 Axes>"
      ]
     },
     "metadata": {},
     "output_type": "display_data"
    }
   ],
   "source": [
    "plt.plot(range(len(data_y)),reg.predict(data_x))\n",
    "plt.title('Predictions of AQI')\n",
    "plt.ylabel('AQI')"
   ]
  },
  {
   "cell_type": "code",
   "execution_count": 22,
   "metadata": {
    "scrolled": false
   },
   "outputs": [
    {
     "data": {
      "text/html": [
       "<div>\n",
       "<style scoped>\n",
       "    .dataframe tbody tr th:only-of-type {\n",
       "        vertical-align: middle;\n",
       "    }\n",
       "\n",
       "    .dataframe tbody tr th {\n",
       "        vertical-align: top;\n",
       "    }\n",
       "\n",
       "    .dataframe thead th {\n",
       "        text-align: right;\n",
       "    }\n",
       "</style>\n",
       "<table border=\"1\" class=\"dataframe\">\n",
       "  <thead>\n",
       "    <tr style=\"text-align: right;\">\n",
       "      <th></th>\n",
       "      <th>BEN</th>\n",
       "      <th>CO</th>\n",
       "      <th>EBE</th>\n",
       "      <th>NMHC</th>\n",
       "      <th>NO_2</th>\n",
       "      <th>O_3</th>\n",
       "      <th>PM10</th>\n",
       "      <th>SO_2</th>\n",
       "      <th>TCH</th>\n",
       "      <th>TOL</th>\n",
       "      <th>AQI</th>\n",
       "    </tr>\n",
       "  </thead>\n",
       "  <tbody>\n",
       "    <tr>\n",
       "      <th>BEN</th>\n",
       "      <td>1.000000</td>\n",
       "      <td>0.851071</td>\n",
       "      <td>0.909510</td>\n",
       "      <td>0.736615</td>\n",
       "      <td>0.670168</td>\n",
       "      <td>-0.441308</td>\n",
       "      <td>0.612771</td>\n",
       "      <td>0.673902</td>\n",
       "      <td>0.714584</td>\n",
       "      <td>0.911775</td>\n",
       "      <td>0.681167</td>\n",
       "    </tr>\n",
       "    <tr>\n",
       "      <th>CO</th>\n",
       "      <td>0.851071</td>\n",
       "      <td>1.000000</td>\n",
       "      <td>0.750310</td>\n",
       "      <td>0.855207</td>\n",
       "      <td>0.737328</td>\n",
       "      <td>-0.466881</td>\n",
       "      <td>0.666693</td>\n",
       "      <td>0.711713</td>\n",
       "      <td>0.802383</td>\n",
       "      <td>0.773982</td>\n",
       "      <td>0.752842</td>\n",
       "    </tr>\n",
       "    <tr>\n",
       "      <th>EBE</th>\n",
       "      <td>0.909510</td>\n",
       "      <td>0.750310</td>\n",
       "      <td>1.000000</td>\n",
       "      <td>0.689797</td>\n",
       "      <td>0.616246</td>\n",
       "      <td>-0.406820</td>\n",
       "      <td>0.583449</td>\n",
       "      <td>0.590441</td>\n",
       "      <td>0.684868</td>\n",
       "      <td>0.918412</td>\n",
       "      <td>0.633695</td>\n",
       "    </tr>\n",
       "    <tr>\n",
       "      <th>NMHC</th>\n",
       "      <td>0.736615</td>\n",
       "      <td>0.855207</td>\n",
       "      <td>0.689797</td>\n",
       "      <td>1.000000</td>\n",
       "      <td>0.617731</td>\n",
       "      <td>-0.433811</td>\n",
       "      <td>0.633619</td>\n",
       "      <td>0.585660</td>\n",
       "      <td>0.819249</td>\n",
       "      <td>0.738275</td>\n",
       "      <td>0.622915</td>\n",
       "    </tr>\n",
       "    <tr>\n",
       "      <th>NO_2</th>\n",
       "      <td>0.670168</td>\n",
       "      <td>0.737328</td>\n",
       "      <td>0.616246</td>\n",
       "      <td>0.617731</td>\n",
       "      <td>1.000000</td>\n",
       "      <td>-0.558018</td>\n",
       "      <td>0.567845</td>\n",
       "      <td>0.637036</td>\n",
       "      <td>0.626352</td>\n",
       "      <td>0.645927</td>\n",
       "      <td>0.959545</td>\n",
       "    </tr>\n",
       "    <tr>\n",
       "      <th>O_3</th>\n",
       "      <td>-0.441308</td>\n",
       "      <td>-0.466881</td>\n",
       "      <td>-0.406820</td>\n",
       "      <td>-0.433811</td>\n",
       "      <td>-0.558018</td>\n",
       "      <td>1.000000</td>\n",
       "      <td>-0.298178</td>\n",
       "      <td>-0.428962</td>\n",
       "      <td>-0.467021</td>\n",
       "      <td>-0.452218</td>\n",
       "      <td>-0.443409</td>\n",
       "    </tr>\n",
       "    <tr>\n",
       "      <th>PM10</th>\n",
       "      <td>0.612771</td>\n",
       "      <td>0.666693</td>\n",
       "      <td>0.583449</td>\n",
       "      <td>0.633619</td>\n",
       "      <td>0.567845</td>\n",
       "      <td>-0.298178</td>\n",
       "      <td>1.000000</td>\n",
       "      <td>0.465233</td>\n",
       "      <td>0.671983</td>\n",
       "      <td>0.637401</td>\n",
       "      <td>0.585569</td>\n",
       "    </tr>\n",
       "    <tr>\n",
       "      <th>SO_2</th>\n",
       "      <td>0.673902</td>\n",
       "      <td>0.711713</td>\n",
       "      <td>0.590441</td>\n",
       "      <td>0.585660</td>\n",
       "      <td>0.637036</td>\n",
       "      <td>-0.428962</td>\n",
       "      <td>0.465233</td>\n",
       "      <td>1.000000</td>\n",
       "      <td>0.597968</td>\n",
       "      <td>0.570559</td>\n",
       "      <td>0.642988</td>\n",
       "    </tr>\n",
       "    <tr>\n",
       "      <th>TCH</th>\n",
       "      <td>0.714584</td>\n",
       "      <td>0.802383</td>\n",
       "      <td>0.684868</td>\n",
       "      <td>0.819249</td>\n",
       "      <td>0.626352</td>\n",
       "      <td>-0.467021</td>\n",
       "      <td>0.671983</td>\n",
       "      <td>0.597968</td>\n",
       "      <td>1.000000</td>\n",
       "      <td>0.742437</td>\n",
       "      <td>0.634092</td>\n",
       "    </tr>\n",
       "    <tr>\n",
       "      <th>TOL</th>\n",
       "      <td>0.911775</td>\n",
       "      <td>0.773982</td>\n",
       "      <td>0.918412</td>\n",
       "      <td>0.738275</td>\n",
       "      <td>0.645927</td>\n",
       "      <td>-0.452218</td>\n",
       "      <td>0.637401</td>\n",
       "      <td>0.570559</td>\n",
       "      <td>0.742437</td>\n",
       "      <td>1.000000</td>\n",
       "      <td>0.651844</td>\n",
       "    </tr>\n",
       "    <tr>\n",
       "      <th>AQI</th>\n",
       "      <td>0.681167</td>\n",
       "      <td>0.752842</td>\n",
       "      <td>0.633695</td>\n",
       "      <td>0.622915</td>\n",
       "      <td>0.959545</td>\n",
       "      <td>-0.443409</td>\n",
       "      <td>0.585569</td>\n",
       "      <td>0.642988</td>\n",
       "      <td>0.634092</td>\n",
       "      <td>0.651844</td>\n",
       "      <td>1.000000</td>\n",
       "    </tr>\n",
       "  </tbody>\n",
       "</table>\n",
       "</div>"
      ],
      "text/plain": [
       "           BEN        CO       EBE      NMHC      NO_2       O_3      PM10  \\\n",
       "BEN   1.000000  0.851071  0.909510  0.736615  0.670168 -0.441308  0.612771   \n",
       "CO    0.851071  1.000000  0.750310  0.855207  0.737328 -0.466881  0.666693   \n",
       "EBE   0.909510  0.750310  1.000000  0.689797  0.616246 -0.406820  0.583449   \n",
       "NMHC  0.736615  0.855207  0.689797  1.000000  0.617731 -0.433811  0.633619   \n",
       "NO_2  0.670168  0.737328  0.616246  0.617731  1.000000 -0.558018  0.567845   \n",
       "O_3  -0.441308 -0.466881 -0.406820 -0.433811 -0.558018  1.000000 -0.298178   \n",
       "PM10  0.612771  0.666693  0.583449  0.633619  0.567845 -0.298178  1.000000   \n",
       "SO_2  0.673902  0.711713  0.590441  0.585660  0.637036 -0.428962  0.465233   \n",
       "TCH   0.714584  0.802383  0.684868  0.819249  0.626352 -0.467021  0.671983   \n",
       "TOL   0.911775  0.773982  0.918412  0.738275  0.645927 -0.452218  0.637401   \n",
       "AQI   0.681167  0.752842  0.633695  0.622915  0.959545 -0.443409  0.585569   \n",
       "\n",
       "          SO_2       TCH       TOL       AQI  \n",
       "BEN   0.673902  0.714584  0.911775  0.681167  \n",
       "CO    0.711713  0.802383  0.773982  0.752842  \n",
       "EBE   0.590441  0.684868  0.918412  0.633695  \n",
       "NMHC  0.585660  0.819249  0.738275  0.622915  \n",
       "NO_2  0.637036  0.626352  0.645927  0.959545  \n",
       "O_3  -0.428962 -0.467021 -0.452218 -0.443409  \n",
       "PM10  0.465233  0.671983  0.637401  0.585569  \n",
       "SO_2  1.000000  0.597968  0.570559  0.642988  \n",
       "TCH   0.597968  1.000000  0.742437  0.634092  \n",
       "TOL   0.570559  0.742437  1.000000  0.651844  \n",
       "AQI   0.642988  0.634092  0.651844  1.000000  "
      ]
     },
     "execution_count": 22,
     "metadata": {},
     "output_type": "execute_result"
    }
   ],
   "source": [
    "features_=['BEN','CO','EBE','NMHC','NO_2','O_3','PM10','SO_2','TCH','TOL','AQI']\n",
    "data_features=year2005f[features_]\n",
    "data_features.corr()"
   ]
  },
  {
   "cell_type": "markdown",
   "metadata": {},
   "source": [
    "### Linear Regression (Model)"
   ]
  },
  {
   "cell_type": "code",
   "execution_count": 23,
   "metadata": {},
   "outputs": [],
   "source": [
    "theta = np.mat(np.zeros(data_x.shape[1])).T\n",
    "theta.shape\n",
    "theta.dtype\n",
    "alpha = 0.00000001"
   ]
  },
  {
   "cell_type": "code",
   "execution_count": 37,
   "metadata": {},
   "outputs": [],
   "source": [
    "def Cost(X,y,theta):\n",
    "    m = y.shape[0]\n",
    "    err = X*theta-y\n",
    "    J = err.T * err / (2 * m)\n",
    "    return J[0,0]"
   ]
  },
  {
   "cell_type": "code",
   "execution_count": 38,
   "metadata": {},
   "outputs": [],
   "source": [
    "def Gradient(X,y,theta):\n",
    "    m = y.shape[0]\n",
    "    err = X*theta-y\n",
    "    grad = 1 / m * err.T * X\n",
    "    return grad"
   ]
  },
  {
   "cell_type": "code",
   "execution_count": 39,
   "metadata": {},
   "outputs": [],
   "source": [
    "def Theta_update(alpha,X,y,theta):\n",
    "    grad = Gradient(X,y,theta)\n",
    "    theta = theta - alpha * grad.T\n",
    "    grad_2norm2 = (grad * grad.T)[0,0]\n",
    "    return [theta,grad_2norm2]"
   ]
  },
  {
   "cell_type": "code",
   "execution_count": 40,
   "metadata": {},
   "outputs": [],
   "source": [
    "def GradDesc(X, y, alpha, theta = np.mat(np.zeros(np.shape(data_x)[1])).T, iterations = 70000):\n",
    "    cost_list=[Cost(X,y,theta)]\n",
    "    i=0\n",
    "    for i in range(iterations):\n",
    "        [new_theta,grad_2norm2] = Theta_update(alpha,X,y,theta)\n",
    "        new_cost = Cost(X,y,new_theta)\n",
    "        theta = new_theta\n",
    "        cost_list.append(new_cost)\n",
    "        i += 1\n",
    "    print('#Iteration:',i,'Cost:',new_cost)\n",
    "    print('Square of 2-norm of grad:',grad_2norm2)\n",
    "    return [theta,cost_list]"
   ]
  },
  {
   "cell_type": "code",
   "execution_count": 41,
   "metadata": {},
   "outputs": [],
   "source": [
    "RMSE_1=np.mat(np.zeros(18))\n",
    "MEAN_1=np.mat(np.zeros(18))\n",
    "Theta_1=np.mat(np.zeros(180)).reshape(18,10)\n",
    "Intercept_1=np.mat(np.zeros(18))"
   ]
  },
  {
   "cell_type": "code",
   "execution_count": 42,
   "metadata": {},
   "outputs": [
    {
     "name": "stdout",
     "output_type": "stream",
     "text": [
      "#Iteration: 70000 Cost: 13.60952224604738\n",
      "Square of 2-norm of grad: 3359.995290096696\n"
     ]
    }
   ],
   "source": [
    "alpha = 0.00000001\n",
    "[theta,cost_list] = GradDesc(data_x,data_y,alpha)"
   ]
  },
  {
   "cell_type": "code",
   "execution_count": 43,
   "metadata": {},
   "outputs": [
    {
     "data": {
      "text/plain": [
       "matrix([[0.01062081],\n",
       "        [0.00385297],\n",
       "        [0.01268163],\n",
       "        [0.00090787],\n",
       "        [0.37065228],\n",
       "        [0.10844556],\n",
       "        [0.14710804],\n",
       "        [0.06973411],\n",
       "        [0.00624623],\n",
       "        [0.04668413]])"
      ]
     },
     "execution_count": 43,
     "metadata": {},
     "output_type": "execute_result"
    }
   ],
   "source": [
    "theta"
   ]
  },
  {
   "cell_type": "code",
   "execution_count": 44,
   "metadata": {},
   "outputs": [
    {
     "data": {
      "image/png": "[encoded data removed]",
      "text/plain": [
       "<Figure size 432x288 with 1 Axes>"
      ]
     },
     "metadata": {},
     "output_type": "display_data"
    }
   ],
   "source": [
    "plt.plot(range(len(cost_list)),cost_list)\n",
    "plt.title('Loss Function')\n",
    "plt.xlabel('Iterations')\n",
    "plt.ylabel('Error')\n",
    "plt.show()"
   ]
  },
  {
   "cell_type": "code",
   "execution_count": 45,
   "metadata": {},
   "outputs": [],
   "source": [
    "predict_y=data_x@theta"
   ]
  },
  {
   "cell_type": "code",
   "execution_count": 46,
   "metadata": {
    "scrolled": true
   },
   "outputs": [
    {
     "name": "stdout",
     "output_type": "stream",
     "text": [
      "RMSE [[5.21718741]]\n"
     ]
    }
   ],
   "source": [
    "print('RMSE', np.sqrt(((predict_y-data_y).T * (predict_y-data_y))/len(data_y)))"
   ]
  },
  {
   "cell_type": "code",
   "execution_count": 47,
   "metadata": {},
   "outputs": [],
   "source": [
    "RMSE_1=np.mat(np.zeros(18))\n",
    "MEAN_1=np.mat(np.zeros(18))\n",
    "Theta_1=np.mat(np.zeros(180)).reshape(18,10)\n",
    "Intercept_1=np.mat(np.zeros(18))"
   ]
  },
  {
   "cell_type": "code",
   "execution_count": 48,
   "metadata": {},
   "outputs": [],
   "source": [
    "def Learning_1(X):\n",
    "    features=['BEN','CO','EBE','NMHC','NO_2','O_3','PM10','SO_2','TCH','TOL']\n",
    "    data_x=X[features].values\n",
    "    data_x=np.mat(data_x)\n",
    "    data_labels=X['AQI'].values\n",
    "    data_y=np.mat(data_labels).T\n",
    "    [theta,cost_list] = GradDesc(data_x,data_y,alpha)\n",
    "    predict_y=data_x@theta\n",
    "    RMSE=np.sqrt(((predict_y-data_y).T * (predict_y-data_y))/len(data_y))\n",
    "    average=np.mean(predict_y)\n",
    "    return [reg.coef_,reg.intercept_[0],RMSE,average]"
   ]
  },
  {
   "cell_type": "code",
   "execution_count": 49,
   "metadata": {},
   "outputs": [
    {
     "name": "stdout",
     "output_type": "stream",
     "text": [
      "#Iteration: 70000 Cost: 11.293187289103832\n",
      "Square of 2-norm of grad: 4743.1018060544575\n",
      "#Iteration: 70000 Cost: 12.415792215862014\n",
      "Square of 2-norm of grad: 3190.033681443992\n",
      "#Iteration: 70000 Cost: 14.467183723232472\n",
      "Square of 2-norm of grad: 3421.1153425345233\n",
      "#Iteration: 70000 Cost: 16.475789677289896\n",
      "Square of 2-norm of grad: 2878.3635283465323\n",
      "#Iteration: 70000 Cost: 13.60952224604738\n",
      "Square of 2-norm of grad: 3359.995290096696\n",
      "#Iteration: 70000 Cost: 17.082581082490396\n",
      "Square of 2-norm of grad: 2632.588073977342\n",
      "#Iteration: 70000 Cost: 13.302169045559767\n",
      "Square of 2-norm of grad: 1550.0318220481054\n",
      "#Iteration: 70000 Cost: 16.4584538800184\n",
      "Square of 2-norm of grad: 2117.5518237963856\n",
      "#Iteration: 70000 Cost: 15.770868918860248\n",
      "Square of 2-norm of grad: 2136.905737878289\n",
      "#Iteration: 70000 Cost: 18.91423231369274\n",
      "Square of 2-norm of grad: 15380.065894893478\n",
      "#Iteration: 70000 Cost: 14.290551008770203\n",
      "Square of 2-norm of grad: 7272.418917998992\n",
      "#Iteration: 70000 Cost: 19.6932968507738\n",
      "Square of 2-norm of grad: 20456.210839114046\n",
      "#Iteration: 70000 Cost: 21.87279389184826\n",
      "Square of 2-norm of grad: 18535.456704071657\n",
      "#Iteration: 70000 Cost: 20.769587365757378\n",
      "Square of 2-norm of grad: 15112.742926460392\n",
      "#Iteration: 70000 Cost: 19.429095600955943\n",
      "Square of 2-norm of grad: 9918.134056902938\n",
      "#Iteration: 70000 Cost: 19.17341906620517\n",
      "Square of 2-norm of grad: 12160.96699542817\n",
      "#Iteration: 70000 Cost: 9.674186033761751\n",
      "Square of 2-norm of grad: 2963.0961726746295\n",
      "#Iteration: 70000 Cost: 15.093735222411807\n",
      "Square of 2-norm of grad: 15590.550740575503\n"
     ]
    }
   ],
   "source": [
    "for i in range(18):\n",
    "    [Theta_1[i,:],Intercept_1[0,i],RMSE_1[0,i],MEAN_1[0,i]]=Learning_1(Year[i])"
   ]
  },
  {
   "cell_type": "code",
   "execution_count": 50,
   "metadata": {},
   "outputs": [
    {
     "data": {
      "text/plain": [
       "Text(0,0.5,'RMSE')"
      ]
     },
     "execution_count": 50,
     "metadata": {},
     "output_type": "execute_result"
    },
    {
     "data": {
      "image/png": "[encoded data removed]",
      "text/plain": [
       "<Figure size 432x288 with 1 Axes>"
      ]
     },
     "metadata": {},
     "output_type": "display_data"
    }
   ],
   "source": [
    "plt.plot(x,np.array(RMSE[0,:].T),x,np.array(RMSE_1[0,:].T))\n",
    "plt.title('RMSE of predictions')\n",
    "plt.xlabel('Year')\n",
    "plt.ylabel('RMSE')"
   ]
  },
  {
   "cell_type": "markdown",
   "metadata": {},
   "source": [
    "### Regularization"
   ]
  },
  {
   "cell_type": "code",
   "execution_count": 51,
   "metadata": {},
   "outputs": [],
   "source": [
    "theta = np.mat(np.zeros(data_x.shape[1])).T\n",
    "theta.shape\n",
    "theta.dtype\n",
    "alpha = 0.00000001\n",
    "lambdas=0.2"
   ]
  },
  {
   "cell_type": "code",
   "execution_count": 52,
   "metadata": {},
   "outputs": [],
   "source": [
    "def Cost_1(X,y,theta,lambdas):\n",
    "    m = y.shape[0]\n",
    "    err = X*theta-y\n",
    "    J = err.T * err / (2 * m)+lambdas/(2*m)*(theta.T*theta)\n",
    "    return J[0,0]"
   ]
  },
  {
   "cell_type": "code",
   "execution_count": 53,
   "metadata": {},
   "outputs": [],
   "source": [
    "def Gradient_1(X,y,theta,lambdas):\n",
    "    m = y.shape[0]\n",
    "    err = X*theta-y\n",
    "    grad = 1 / m * err.T * X+lambdas/m*theta.T \n",
    "    return grad"
   ]
  },
  {
   "cell_type": "code",
   "execution_count": 54,
   "metadata": {},
   "outputs": [],
   "source": [
    "def Theta_update_1(alpha,X,y,theta,lambdas):\n",
    "    grad = Gradient_1(X,y,theta,lambdas)\n",
    "    theta = theta - alpha * grad.T\n",
    "    grad_2norm2 = (grad * grad.T)[0,0]\n",
    "    return [theta,grad_2norm2]"
   ]
  },
  {
   "cell_type": "code",
   "execution_count": 55,
   "metadata": {},
   "outputs": [],
   "source": [
    "def GradDesc_1(X, y, alpha, lambdas ,theta = np.mat(np.zeros(np.shape(data_x)[1])).T, iterations = 70000):\n",
    "    cost_list=[Cost_1(X,y,theta,lambdas)]\n",
    "    i=0\n",
    "    for i in range(iterations):\n",
    "        [new_theta,grad_2norm2] = Theta_update_1(alpha,X,y,theta,lambdas)\n",
    "        new_cost = Cost_1(X,y,new_theta,lambdas)\n",
    "        theta = new_theta\n",
    "        cost_list.append(new_cost)\n",
    "        i += 1\n",
    "    return [theta,cost_list]"
   ]
  },
  {
   "cell_type": "code",
   "execution_count": 56,
   "metadata": {
    "scrolled": true
   },
   "outputs": [],
   "source": [
    "alpha = 0.00000001\n",
    "lambdas=0.2\n",
    "[theta,cost_list] = GradDesc_1(data_x,data_y,alpha,lambdas)"
   ]
  },
  {
   "cell_type": "code",
   "execution_count": 57,
   "metadata": {},
   "outputs": [
    {
     "data": {
      "image/png": "[encoded data removed]",
      "text/plain": [
       "<Figure size 432x288 with 1 Axes>"
      ]
     },
     "metadata": {},
     "output_type": "display_data"
    }
   ],
   "source": [
    "plt.plot(range(len(cost_list)),cost_list)\n",
    "plt.title('Loss Function')\n",
    "plt.xlabel('Iterations')\n",
    "plt.ylabel('Error')\n",
    "plt.show()"
   ]
  },
  {
   "cell_type": "code",
   "execution_count": 58,
   "metadata": {},
   "outputs": [],
   "source": [
    "predict_y=data_x@theta"
   ]
  },
  {
   "cell_type": "code",
   "execution_count": 59,
   "metadata": {},
   "outputs": [
    {
     "name": "stdout",
     "output_type": "stream",
     "text": [
      "RMSE [[5.21718741]]\n"
     ]
    }
   ],
   "source": [
    "print('RMSE', np.sqrt(((predict_y-data_y).T * (predict_y-data_y))/len(data_y)))"
   ]
  },
  {
   "cell_type": "code",
   "execution_count": 60,
   "metadata": {},
   "outputs": [],
   "source": [
    "RMSE_2=np.mat(np.zeros(18))\n",
    "MEAN_2=np.mat(np.zeros(18))\n",
    "Theta_2=np.mat(np.zeros(180)).reshape(18,10)\n",
    "Intercept_2=np.mat(np.zeros(18))"
   ]
  },
  {
   "cell_type": "code",
   "execution_count": 61,
   "metadata": {},
   "outputs": [],
   "source": [
    "def Learning_2(X):\n",
    "    features=['BEN','CO','EBE','NMHC','NO_2','O_3','PM10','SO_2','TCH','TOL']\n",
    "    data_x=X[features].values\n",
    "    data_x=np.mat(data_x)\n",
    "    data_labels=X['AQI'].values\n",
    "    data_y=np.mat(data_labels).T\n",
    "    [theta,cost_list] = GradDesc_1(data_x,data_y,alpha,lambdas)\n",
    "    predict_y=data_x@theta\n",
    "    RMSE=np.sqrt(((predict_y-data_y).T * (predict_y-data_y))/len(data_y))\n",
    "    average=np.mean(predict_y)\n",
    "    return [reg.coef_,reg.intercept_[0],RMSE,average]"
   ]
  },
  {
   "cell_type": "code",
   "execution_count": 62,
   "metadata": {},
   "outputs": [],
   "source": [
    "for i in range(18):\n",
    "    [Theta_2[i,:],Intercept_2[0,i],RMSE_2[0,i],MEAN_2[0,i]]=Learning_2(Year[i])"
   ]
  },
  {
   "cell_type": "code",
   "execution_count": 63,
   "metadata": {},
   "outputs": [
    {
     "data": {
      "image/png": "[encoded data removed]",
      "text/plain": [
       "<Figure size 432x288 with 1 Axes>"
      ]
     },
     "metadata": {},
     "output_type": "display_data"
    }
   ],
   "source": [
    "plt.plot(x,np.array(RMSE[0,:].T),label='sklearn')\n",
    "#plt.plot(x,np.array(RMSE_1[0,:].T),label='Gradient Descent')\n",
    "plt.plot(x,np.array(RMSE_2[0,:].T),label='Regularization',color='g')\n",
    "plt.title('RMSE of predictions')\n",
    "plt.legend()\n",
    "plt.xlabel('Year')\n",
    "plt.ylabel('RMSE')\n",
    "plt.show()"
   ]
  },
  {
   "cell_type": "markdown",
   "metadata": {},
   "source": [
    "### Station Casa de Campo(28079024)"
   ]
  },
  {
   "cell_type": "code",
   "execution_count": 64,
   "metadata": {},
   "outputs": [],
   "source": [
    "data_24=[year2001f[year2001f['station']==28079024],year2002f[year2002f['station']==28079024],\n",
    "      year2003f[year2003f['station']==28079024],year2004f[year2004f['station']==28079024],\n",
    "      year2005f[year2005f['station']==28079024],year2006f[year2006f['station']==28079024],\n",
    "      year2007f[year2007f['station']==28079024],year2008f[year2008f['station']==28079024],\n",
    "      year2009f[year2009f['station']==28079024],year2010f[year2010f['station']==28079024],\n",
    "      year2011f[year2011f['station']==28079024],year2012f[year2012f['station']==28079024],\n",
    "      year2013f[year2013f['station']==28079024],year2014f[year2014f['station']==28079024],\n",
    "      year2015f[year2015f['station']==28079024],year2016f[year2016f['station']==28079024],\n",
    "      year2017f[year2017f['station']==28079024],year2018f[year2018f['station']==28079024]]\n",
    "AQI_24=np.mat(np.zeros(18))\n",
    "for i in range(18):\n",
    "    AQI_24[0,i]=np.mean(data_24[i]['AQI'])"
   ]
  },
  {
   "cell_type": "code",
   "execution_count": 65,
   "metadata": {},
   "outputs": [],
   "source": [
    "RMSE_24=np.mat(np.zeros(18))\n",
    "MEAN_24=np.mat(np.zeros(18))\n",
    "Theta_24=np.mat(np.zeros(180)).reshape(18,10)\n",
    "Intercept_24=np.mat(np.zeros(18))\n",
    "for i in range(18):\n",
    "    [Theta_24[i,:],Intercept_24[0,i],RMSE_24[0,i],MEAN_24[0,i]]=Learning(data_24[i])"
   ]
  },
  {
   "cell_type": "code",
   "execution_count": 66,
   "metadata": {},
   "outputs": [
    {
     "data": {
      "text/plain": [
       "Text(0,0.5,'AQI')"
      ]
     },
     "execution_count": 66,
     "metadata": {},
     "output_type": "execute_result"
    },
    {
     "data": {
      "image/png": "[encoded data removed]",
      "text/plain": [
       "<Figure size 432x288 with 1 Axes>"
      ]
     },
     "metadata": {},
     "output_type": "display_data"
    }
   ],
   "source": [
    "x=np.linspace(2001,2018,18)\n",
    "plt.plot(x,AQI_24.T)\n",
    "plt.title('Mean value of actual AQI')\n",
    "plt.xlabel('Year')\n",
    "plt.ylabel('AQI')"
   ]
  },
  {
   "cell_type": "code",
   "execution_count": 67,
   "metadata": {},
   "outputs": [
    {
     "data": {
      "text/plain": [
       "Text(0,0.5,'AQI')"
      ]
     },
     "execution_count": 67,
     "metadata": {},
     "output_type": "execute_result"
    },
    {
     "data": {
      "image/png": "[encoded data removed]",
      "text/plain": [
       "<Figure size 432x288 with 1 Axes>"
      ]
     },
     "metadata": {},
     "output_type": "display_data"
    }
   ],
   "source": [
    "plt.plot(x,np.array(MEAN_24[0,:].T),color='r')\n",
    "plt.title('Mean value of predictions')\n",
    "plt.xlabel('Year')\n",
    "plt.ylabel('AQI')"
   ]
  },
  {
   "cell_type": "code",
   "execution_count": 68,
   "metadata": {},
   "outputs": [
    {
     "data": {
      "text/plain": [
       "Text(0,0.5,'RMSE')"
      ]
     },
     "execution_count": 68,
     "metadata": {},
     "output_type": "execute_result"
    },
    {
     "data": {
      "image/png": "[encoded data removed]",
      "text/plain": [
       "<Figure size 432x288 with 1 Axes>"
      ]
     },
     "metadata": {},
     "output_type": "display_data"
    }
   ],
   "source": [
    "plt.plot(x,np.array(RMSE_24[0,:].T))\n",
    "plt.title('RMSE of predictions')\n",
    "plt.xlabel('Year')\n",
    "plt.ylabel('RMSE')"
   ]
  }
 ],
 "metadata": {
  "kernelspec": {
   "display_name": "Python 3",
   "language": "python",
   "name": "python3"
  },
  "language_info": {
   "codemirror_mode": {
    "name": "ipython",
    "version": 3
   },
   "file_extension": ".py",
   "mimetype": "text/x-python",
   "name": "python",
   "nbconvert_exporter": "python",
   "pygments_lexer": "ipython3",
   "version": "3.6.6"
  }
 },
 "nbformat": 4,
 "nbformat_minor": 2
}
